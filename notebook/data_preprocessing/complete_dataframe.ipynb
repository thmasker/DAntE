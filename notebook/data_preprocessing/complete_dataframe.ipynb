{
 "cells": [
  {
   "cell_type": "markdown",
   "metadata": {},
   "source": [
    "# Build complete Dataframe\n",
    "\n",
    "Our first goal is to obtain the complete Dataframe of a building, that is, getting a time series starting from the first existing hour in the database, and finishing with the last one. Whenever the information in between is missing, we'll fill it with `NaN`, for later processing.\n",
    "\n",
    "#### Directory structure\n",
    "\n",
    "./<br></br>\n",
    "notebook/<br></br>\n",
    "    &emsp;|--- data-preprocessing<br></br>\n",
    "    &emsp;&emsp;&emsp;&emsp;|--- complete_dataframe.ipynb<br></br>\n",
    "out/"
   ]
  },
  {
   "cell_type": "code",
   "execution_count": 1,
   "metadata": {},
   "outputs": [],
   "source": [
    "import pandas as pd\n",
    "import numpy as np\n",
    "import pymongo as pm\n",
    "import datetime"
   ]
  },
  {
   "cell_type": "code",
   "execution_count": 2,
   "metadata": {},
   "outputs": [],
   "source": [
    "HOST = '161.67.142.141'\n",
    "PORT = 27017\n",
    "DB = 'differential_uclm_db'\n",
    "DB_COUNTERRAW = 'CounterRawConsumption'\n",
    "\n",
    "START_DAY = 5 # Day starts at 5:00 am"
   ]
  },
  {
   "cell_type": "markdown",
   "metadata": {},
   "source": [
    "### Database connection"
   ]
  },
  {
   "cell_type": "code",
   "execution_count": 3,
   "metadata": {},
   "outputs": [],
   "source": [
    "def connectDB() -> pm.MongoClient:\n",
    "    return pm.MongoClient(host=HOST, port=PORT)[DB]"
   ]
  },
  {
   "cell_type": "code",
   "execution_count": 4,
   "metadata": {},
   "outputs": [],
   "source": [
    "db = connectDB()"
   ]
  },
  {
   "cell_type": "markdown",
   "metadata": {},
   "source": [
    "## 1. Create hour index\n",
    "\n",
    "First, we must obtain the building's first and last registered hour, building then the hour index between these dates."
   ]
  },
  {
   "cell_type": "markdown",
   "metadata": {},
   "source": [
    "### First and last registered hours\n",
    "Find first and last registered hours for the specified building ID"
   ]
  },
  {
   "cell_type": "code",
   "execution_count": 5,
   "metadata": {},
   "outputs": [],
   "source": [
    "def firstHour(db: pm.MongoClient, counter_id: int) -> datetime.datetime:\n",
    "    return list(db[DB_COUNTERRAW].find({'counterinfo_id': counter_id}).sort('timestamp', pm.ASCENDING).limit(1))[0]['timestamp']\n",
    "\n",
    "def lastHour(db: pm.MongoClient, counter_id: int) -> datetime.datetime:\n",
    "    return list(db[DB_COUNTERRAW].find({'counterinfo_id': counter_id}).sort('timestamp', pm.DESCENDING).limit(1))[0]['timestamp']"
   ]
  },
  {
   "cell_type": "code",
   "execution_count": 6,
   "metadata": {},
   "outputs": [
    {
     "data": {
      "text/plain": [
       "(datetime.datetime(2011, 7, 26, 5, 0), datetime.datetime(2020, 3, 28, 4, 0))"
      ]
     },
     "execution_count": 6,
     "metadata": {},
     "output_type": "execute_result"
    }
   ],
   "source": [
    "counter_id = 27 # Building ID example\n",
    "start, end = firstHour(db, counter_id).replace(hour=5), lastHour(db, counter_id).replace(hour=4) # Fix hours to have 24h days\n",
    "\n",
    "start, end"
   ]
  },
  {
   "cell_type": "markdown",
   "metadata": {},
   "source": [
    "### Build hour index\n",
    "From firstHour lastHour with 1 hour step"
   ]
  },
  {
   "cell_type": "code",
   "execution_count": 7,
   "metadata": {},
   "outputs": [],
   "source": [
    "def createIndex(first: datetime.datetime, last: datetime.datetime) -> pd.DatetimeIndex:\n",
    "    return pd.date_range(start=first, end=last, freq='1H')"
   ]
  },
  {
   "cell_type": "code",
   "execution_count": 8,
   "metadata": {},
   "outputs": [
    {
     "data": {
      "text/plain": [
       "DatetimeIndex(['2011-07-26 05:00:00', '2011-07-26 06:00:00',\n",
       "               '2011-07-26 07:00:00', '2011-07-26 08:00:00',\n",
       "               '2011-07-26 09:00:00', '2011-07-26 10:00:00',\n",
       "               '2011-07-26 11:00:00', '2011-07-26 12:00:00',\n",
       "               '2011-07-26 13:00:00', '2011-07-26 14:00:00',\n",
       "               ...\n",
       "               '2020-03-27 19:00:00', '2020-03-27 20:00:00',\n",
       "               '2020-03-27 21:00:00', '2020-03-27 22:00:00',\n",
       "               '2020-03-27 23:00:00', '2020-03-28 00:00:00',\n",
       "               '2020-03-28 01:00:00', '2020-03-28 02:00:00',\n",
       "               '2020-03-28 03:00:00', '2020-03-28 04:00:00'],\n",
       "              dtype='datetime64[ns]', length=76032, freq='H')"
      ]
     },
     "execution_count": 8,
     "metadata": {},
     "output_type": "execute_result"
    }
   ],
   "source": [
    "index = createIndex(start, end)\n",
    "\n",
    "index"
   ]
  },
  {
   "cell_type": "markdown",
   "metadata": {},
   "source": [
    "## 2. Build complete Dataframe\n",
    "Now we rebuild complete Dataframe with the consumptions for every hour we got in the index, filling with `NaN` when the value is not found on the database or if it is a negative consumption. This is reindexing the Dataframe with the previous index we obtained"
   ]
  },
  {
   "cell_type": "code",
   "execution_count": 9,
   "metadata": {},
   "outputs": [],
   "source": [
    "def getDataFrame(db: pm.MongoClient, counter_id: int) -> pd.DataFrame:\n",
    "    cursor = db[DB_COUNTERRAW].find({'counterinfo_id': counter_id})\n",
    "    df = pd.DataFrame(list(cursor))\n",
    "    del df['_id']\n",
    "    del df['counterinfo_id']\n",
    "    \n",
    "    df = df.set_index('timestamp') # Indexing dataframe by timestamp\n",
    "    \n",
    "    return df"
   ]
  },
  {
   "cell_type": "code",
   "execution_count": 10,
   "metadata": {},
   "outputs": [
    {
     "data": {
      "text/html": [
       "<div>\n",
       "<style scoped>\n",
       "    .dataframe tbody tr th:only-of-type {\n",
       "        vertical-align: middle;\n",
       "    }\n",
       "\n",
       "    .dataframe tbody tr th {\n",
       "        vertical-align: top;\n",
       "    }\n",
       "\n",
       "    .dataframe thead th {\n",
       "        text-align: right;\n",
       "    }\n",
       "</style>\n",
       "<table border=\"1\" class=\"dataframe\">\n",
       "  <thead>\n",
       "    <tr style=\"text-align: right;\">\n",
       "      <th></th>\n",
       "      <th>consumption</th>\n",
       "    </tr>\n",
       "    <tr>\n",
       "      <th>timestamp</th>\n",
       "      <th></th>\n",
       "    </tr>\n",
       "  </thead>\n",
       "  <tbody>\n",
       "    <tr>\n",
       "      <th>2011-07-26 17:00:00</th>\n",
       "      <td>111.000000</td>\n",
       "    </tr>\n",
       "    <tr>\n",
       "      <th>2011-07-26 18:00:00</th>\n",
       "      <td>43.348334</td>\n",
       "    </tr>\n",
       "    <tr>\n",
       "      <th>2011-07-26 19:00:00</th>\n",
       "      <td>41.846246</td>\n",
       "    </tr>\n",
       "    <tr>\n",
       "      <th>2011-07-26 20:00:00</th>\n",
       "      <td>22.805419</td>\n",
       "    </tr>\n",
       "    <tr>\n",
       "      <th>2011-07-26 21:00:00</th>\n",
       "      <td>20.887574</td>\n",
       "    </tr>\n",
       "    <tr>\n",
       "      <th>...</th>\n",
       "      <td>...</td>\n",
       "    </tr>\n",
       "    <tr>\n",
       "      <th>2020-03-28 19:00:00</th>\n",
       "      <td>10.270344</td>\n",
       "    </tr>\n",
       "    <tr>\n",
       "      <th>2020-03-28 20:00:00</th>\n",
       "      <td>11.665155</td>\n",
       "    </tr>\n",
       "    <tr>\n",
       "      <th>2020-03-28 21:00:00</th>\n",
       "      <td>10.967742</td>\n",
       "    </tr>\n",
       "    <tr>\n",
       "      <th>2020-03-28 22:00:00</th>\n",
       "      <td>10.302608</td>\n",
       "    </tr>\n",
       "    <tr>\n",
       "      <th>2020-03-28 23:00:00</th>\n",
       "      <td>10.632892</td>\n",
       "    </tr>\n",
       "  </tbody>\n",
       "</table>\n",
       "<p>75413 rows × 1 columns</p>\n",
       "</div>"
      ],
      "text/plain": [
       "                     consumption\n",
       "timestamp                       \n",
       "2011-07-26 17:00:00   111.000000\n",
       "2011-07-26 18:00:00    43.348334\n",
       "2011-07-26 19:00:00    41.846246\n",
       "2011-07-26 20:00:00    22.805419\n",
       "2011-07-26 21:00:00    20.887574\n",
       "...                          ...\n",
       "2020-03-28 19:00:00    10.270344\n",
       "2020-03-28 20:00:00    11.665155\n",
       "2020-03-28 21:00:00    10.967742\n",
       "2020-03-28 22:00:00    10.302608\n",
       "2020-03-28 23:00:00    10.632892\n",
       "\n",
       "[75413 rows x 1 columns]"
      ]
     },
     "execution_count": 10,
     "metadata": {},
     "output_type": "execute_result"
    }
   ],
   "source": [
    "df = getDataFrame(db, counter_id)\n",
    "df"
   ]
  },
  {
   "cell_type": "markdown",
   "metadata": {},
   "source": [
    "### Reindex Dataframe"
   ]
  },
  {
   "cell_type": "code",
   "execution_count": 11,
   "metadata": {
    "scrolled": true
   },
   "outputs": [
    {
     "data": {
      "text/html": [
       "<div>\n",
       "<style scoped>\n",
       "    .dataframe tbody tr th:only-of-type {\n",
       "        vertical-align: middle;\n",
       "    }\n",
       "\n",
       "    .dataframe tbody tr th {\n",
       "        vertical-align: top;\n",
       "    }\n",
       "\n",
       "    .dataframe thead th {\n",
       "        text-align: right;\n",
       "    }\n",
       "</style>\n",
       "<table border=\"1\" class=\"dataframe\">\n",
       "  <thead>\n",
       "    <tr style=\"text-align: right;\">\n",
       "      <th></th>\n",
       "      <th>consumption</th>\n",
       "    </tr>\n",
       "  </thead>\n",
       "  <tbody>\n",
       "    <tr>\n",
       "      <th>2011-07-26 05:00:00</th>\n",
       "      <td>NaN</td>\n",
       "    </tr>\n",
       "    <tr>\n",
       "      <th>2011-07-26 06:00:00</th>\n",
       "      <td>NaN</td>\n",
       "    </tr>\n",
       "    <tr>\n",
       "      <th>2011-07-26 07:00:00</th>\n",
       "      <td>NaN</td>\n",
       "    </tr>\n",
       "    <tr>\n",
       "      <th>2011-07-26 08:00:00</th>\n",
       "      <td>NaN</td>\n",
       "    </tr>\n",
       "    <tr>\n",
       "      <th>2011-07-26 09:00:00</th>\n",
       "      <td>NaN</td>\n",
       "    </tr>\n",
       "    <tr>\n",
       "      <th>...</th>\n",
       "      <td>...</td>\n",
       "    </tr>\n",
       "    <tr>\n",
       "      <th>2020-03-28 00:00:00</th>\n",
       "      <td>11.066098</td>\n",
       "    </tr>\n",
       "    <tr>\n",
       "      <th>2020-03-28 01:00:00</th>\n",
       "      <td>10.978488</td>\n",
       "    </tr>\n",
       "    <tr>\n",
       "      <th>2020-03-28 02:00:00</th>\n",
       "      <td>10.858585</td>\n",
       "    </tr>\n",
       "    <tr>\n",
       "      <th>2020-03-28 03:00:00</th>\n",
       "      <td>10.967692</td>\n",
       "    </tr>\n",
       "    <tr>\n",
       "      <th>2020-03-28 04:00:00</th>\n",
       "      <td>10.967746</td>\n",
       "    </tr>\n",
       "  </tbody>\n",
       "</table>\n",
       "<p>76032 rows × 1 columns</p>\n",
       "</div>"
      ],
      "text/plain": [
       "                     consumption\n",
       "2011-07-26 05:00:00          NaN\n",
       "2011-07-26 06:00:00          NaN\n",
       "2011-07-26 07:00:00          NaN\n",
       "2011-07-26 08:00:00          NaN\n",
       "2011-07-26 09:00:00          NaN\n",
       "...                          ...\n",
       "2020-03-28 00:00:00    11.066098\n",
       "2020-03-28 01:00:00    10.978488\n",
       "2020-03-28 02:00:00    10.858585\n",
       "2020-03-28 03:00:00    10.967692\n",
       "2020-03-28 04:00:00    10.967746\n",
       "\n",
       "[76032 rows x 1 columns]"
      ]
     },
     "execution_count": 11,
     "metadata": {},
     "output_type": "execute_result"
    }
   ],
   "source": [
    "df = df.reindex(index=index)\n",
    "df"
   ]
  },
  {
   "cell_type": "markdown",
   "metadata": {},
   "source": [
    "### Calculate day\n",
    "Day recalculation needed because days will start, as defined in `START_DAY`, at 5:00 am"
   ]
  },
  {
   "cell_type": "code",
   "execution_count": 12,
   "metadata": {},
   "outputs": [],
   "source": [
    "def calcDay(df: pd.DataFrame) -> pd.DataFrame:\n",
    "    df['day'] = df.apply(lambda x: (x.name - pd.DateOffset(hours=START_DAY)).date(), axis= 1)\n",
    "    df['day'] = pd.to_datetime(df['day'])\n",
    "    \n",
    "    return df"
   ]
  },
  {
   "cell_type": "code",
   "execution_count": 13,
   "metadata": {
    "scrolled": true
   },
   "outputs": [
    {
     "data": {
      "text/html": [
       "<div>\n",
       "<style scoped>\n",
       "    .dataframe tbody tr th:only-of-type {\n",
       "        vertical-align: middle;\n",
       "    }\n",
       "\n",
       "    .dataframe tbody tr th {\n",
       "        vertical-align: top;\n",
       "    }\n",
       "\n",
       "    .dataframe thead th {\n",
       "        text-align: right;\n",
       "    }\n",
       "</style>\n",
       "<table border=\"1\" class=\"dataframe\">\n",
       "  <thead>\n",
       "    <tr style=\"text-align: right;\">\n",
       "      <th></th>\n",
       "      <th>consumption</th>\n",
       "      <th>day</th>\n",
       "    </tr>\n",
       "  </thead>\n",
       "  <tbody>\n",
       "    <tr>\n",
       "      <th>2011-07-26 05:00:00</th>\n",
       "      <td>NaN</td>\n",
       "      <td>2011-07-26</td>\n",
       "    </tr>\n",
       "    <tr>\n",
       "      <th>2011-07-26 06:00:00</th>\n",
       "      <td>NaN</td>\n",
       "      <td>2011-07-26</td>\n",
       "    </tr>\n",
       "    <tr>\n",
       "      <th>2011-07-26 07:00:00</th>\n",
       "      <td>NaN</td>\n",
       "      <td>2011-07-26</td>\n",
       "    </tr>\n",
       "    <tr>\n",
       "      <th>2011-07-26 08:00:00</th>\n",
       "      <td>NaN</td>\n",
       "      <td>2011-07-26</td>\n",
       "    </tr>\n",
       "    <tr>\n",
       "      <th>2011-07-26 09:00:00</th>\n",
       "      <td>NaN</td>\n",
       "      <td>2011-07-26</td>\n",
       "    </tr>\n",
       "    <tr>\n",
       "      <th>...</th>\n",
       "      <td>...</td>\n",
       "      <td>...</td>\n",
       "    </tr>\n",
       "    <tr>\n",
       "      <th>2020-03-28 00:00:00</th>\n",
       "      <td>11.066098</td>\n",
       "      <td>2020-03-27</td>\n",
       "    </tr>\n",
       "    <tr>\n",
       "      <th>2020-03-28 01:00:00</th>\n",
       "      <td>10.978488</td>\n",
       "      <td>2020-03-27</td>\n",
       "    </tr>\n",
       "    <tr>\n",
       "      <th>2020-03-28 02:00:00</th>\n",
       "      <td>10.858585</td>\n",
       "      <td>2020-03-27</td>\n",
       "    </tr>\n",
       "    <tr>\n",
       "      <th>2020-03-28 03:00:00</th>\n",
       "      <td>10.967692</td>\n",
       "      <td>2020-03-27</td>\n",
       "    </tr>\n",
       "    <tr>\n",
       "      <th>2020-03-28 04:00:00</th>\n",
       "      <td>10.967746</td>\n",
       "      <td>2020-03-27</td>\n",
       "    </tr>\n",
       "  </tbody>\n",
       "</table>\n",
       "<p>76032 rows × 2 columns</p>\n",
       "</div>"
      ],
      "text/plain": [
       "                     consumption        day\n",
       "2011-07-26 05:00:00          NaN 2011-07-26\n",
       "2011-07-26 06:00:00          NaN 2011-07-26\n",
       "2011-07-26 07:00:00          NaN 2011-07-26\n",
       "2011-07-26 08:00:00          NaN 2011-07-26\n",
       "2011-07-26 09:00:00          NaN 2011-07-26\n",
       "...                          ...        ...\n",
       "2020-03-28 00:00:00    11.066098 2020-03-27\n",
       "2020-03-28 01:00:00    10.978488 2020-03-27\n",
       "2020-03-28 02:00:00    10.858585 2020-03-27\n",
       "2020-03-28 03:00:00    10.967692 2020-03-27\n",
       "2020-03-28 04:00:00    10.967746 2020-03-27\n",
       "\n",
       "[76032 rows x 2 columns]"
      ]
     },
     "execution_count": 13,
     "metadata": {},
     "output_type": "execute_result"
    }
   ],
   "source": [
    "df = calcDay(df)\n",
    "df"
   ]
  },
  {
   "cell_type": "markdown",
   "metadata": {},
   "source": [
    "## 3. Reshape Dataframe into TimeSeries\n",
    "Get new Dataframe with indexed with `day`, and its 24 consumptions"
   ]
  },
  {
   "cell_type": "code",
   "execution_count": 14,
   "metadata": {},
   "outputs": [
    {
     "data": {
      "text/html": [
       "<div>\n",
       "<style scoped>\n",
       "    .dataframe tbody tr th:only-of-type {\n",
       "        vertical-align: middle;\n",
       "    }\n",
       "\n",
       "    .dataframe tbody tr th {\n",
       "        vertical-align: top;\n",
       "    }\n",
       "\n",
       "    .dataframe thead th {\n",
       "        text-align: right;\n",
       "    }\n",
       "</style>\n",
       "<table border=\"1\" class=\"dataframe\">\n",
       "  <thead>\n",
       "    <tr style=\"text-align: right;\">\n",
       "      <th></th>\n",
       "      <th>consumptions</th>\n",
       "    </tr>\n",
       "  </thead>\n",
       "  <tbody>\n",
       "    <tr>\n",
       "      <th>0</th>\n",
       "      <td>[nan, nan, nan, nan, nan, nan, nan, nan, nan, ...</td>\n",
       "    </tr>\n",
       "    <tr>\n",
       "      <th>1</th>\n",
       "      <td>[17.0, 19.0, 18.3507946535444, 35.846312818818...</td>\n",
       "    </tr>\n",
       "    <tr>\n",
       "      <th>2</th>\n",
       "      <td>[18.8887041808661, 18.8030088936913, 18.845892...</td>\n",
       "    </tr>\n",
       "    <tr>\n",
       "      <th>3</th>\n",
       "      <td>[20.0, 21.0, 20.0, 37.7887789876153, 45.845704...</td>\n",
       "    </tr>\n",
       "    <tr>\n",
       "      <th>4</th>\n",
       "      <td>[17.2981132075472, 17.0, 17.2396974482587, 17....</td>\n",
       "    </tr>\n",
       "    <tr>\n",
       "      <th>...</th>\n",
       "      <td>...</td>\n",
       "    </tr>\n",
       "    <tr>\n",
       "      <th>3163</th>\n",
       "      <td>[10.1170330737468, 10.9676878955827, 10.967739...</td>\n",
       "    </tr>\n",
       "    <tr>\n",
       "      <th>3164</th>\n",
       "      <td>[10.8590892649269, 10.9677121385118, 10.967712...</td>\n",
       "    </tr>\n",
       "    <tr>\n",
       "      <th>3165</th>\n",
       "      <td>[10.9677235262438, 10.3559814000229, 10.579513...</td>\n",
       "    </tr>\n",
       "    <tr>\n",
       "      <th>3166</th>\n",
       "      <td>[10.9677623111933, 10.6143072999924, 10.321141...</td>\n",
       "    </tr>\n",
       "    <tr>\n",
       "      <th>3167</th>\n",
       "      <td>[10.9784971838712, 10.0736918353322, 10.967758...</td>\n",
       "    </tr>\n",
       "  </tbody>\n",
       "</table>\n",
       "<p>3168 rows × 1 columns</p>\n",
       "</div>"
      ],
      "text/plain": [
       "                                           consumptions\n",
       "0     [nan, nan, nan, nan, nan, nan, nan, nan, nan, ...\n",
       "1     [17.0, 19.0, 18.3507946535444, 35.846312818818...\n",
       "2     [18.8887041808661, 18.8030088936913, 18.845892...\n",
       "3     [20.0, 21.0, 20.0, 37.7887789876153, 45.845704...\n",
       "4     [17.2981132075472, 17.0, 17.2396974482587, 17....\n",
       "...                                                 ...\n",
       "3163  [10.1170330737468, 10.9676878955827, 10.967739...\n",
       "3164  [10.8590892649269, 10.9677121385118, 10.967712...\n",
       "3165  [10.9677235262438, 10.3559814000229, 10.579513...\n",
       "3166  [10.9677623111933, 10.6143072999924, 10.321141...\n",
       "3167  [10.9784971838712, 10.0736918353322, 10.967758...\n",
       "\n",
       "[3168 rows x 1 columns]"
      ]
     },
     "execution_count": 14,
     "metadata": {},
     "output_type": "execute_result"
    }
   ],
   "source": [
    "consumption = np.asarray(df['consumption'])\n",
    "consumption = consumption.reshape((len(df['day']) // 24, 24)) # Reshape each day with its 24 consumptions\n",
    "\n",
    "consumptions = pd.DataFrame({'consumptions': consumption.tolist()})\n",
    "\n",
    "consumptions"
   ]
  },
  {
   "cell_type": "markdown",
   "metadata": {},
   "source": [
    "### Index by day"
   ]
  },
  {
   "cell_type": "code",
   "execution_count": 15,
   "metadata": {
    "scrolled": true
   },
   "outputs": [
    {
     "data": {
      "text/html": [
       "<div>\n",
       "<style scoped>\n",
       "    .dataframe tbody tr th:only-of-type {\n",
       "        vertical-align: middle;\n",
       "    }\n",
       "\n",
       "    .dataframe tbody tr th {\n",
       "        vertical-align: top;\n",
       "    }\n",
       "\n",
       "    .dataframe thead th {\n",
       "        text-align: right;\n",
       "    }\n",
       "</style>\n",
       "<table border=\"1\" class=\"dataframe\">\n",
       "  <thead>\n",
       "    <tr style=\"text-align: right;\">\n",
       "      <th></th>\n",
       "      <th>building_id</th>\n",
       "      <th>weekday</th>\n",
       "      <th>consumptions</th>\n",
       "    </tr>\n",
       "    <tr>\n",
       "      <th>day</th>\n",
       "      <th></th>\n",
       "      <th></th>\n",
       "      <th></th>\n",
       "    </tr>\n",
       "  </thead>\n",
       "  <tbody>\n",
       "    <tr>\n",
       "      <th>2011-07-26</th>\n",
       "      <td>27</td>\n",
       "      <td>1</td>\n",
       "      <td>[nan, nan, nan, nan, nan, nan, nan, nan, nan, ...</td>\n",
       "    </tr>\n",
       "    <tr>\n",
       "      <th>2011-07-27</th>\n",
       "      <td>27</td>\n",
       "      <td>2</td>\n",
       "      <td>[17.0, 19.0, 18.3507946535444, 35.846312818818...</td>\n",
       "    </tr>\n",
       "    <tr>\n",
       "      <th>2011-07-28</th>\n",
       "      <td>27</td>\n",
       "      <td>3</td>\n",
       "      <td>[18.8887041808661, 18.8030088936913, 18.845892...</td>\n",
       "    </tr>\n",
       "    <tr>\n",
       "      <th>2011-07-29</th>\n",
       "      <td>27</td>\n",
       "      <td>4</td>\n",
       "      <td>[20.0, 21.0, 20.0, 37.7887789876153, 45.845704...</td>\n",
       "    </tr>\n",
       "    <tr>\n",
       "      <th>2011-07-30</th>\n",
       "      <td>27</td>\n",
       "      <td>5</td>\n",
       "      <td>[17.2981132075472, 17.0, 17.2396974482587, 17....</td>\n",
       "    </tr>\n",
       "    <tr>\n",
       "      <th>...</th>\n",
       "      <td>...</td>\n",
       "      <td>...</td>\n",
       "      <td>...</td>\n",
       "    </tr>\n",
       "    <tr>\n",
       "      <th>2020-03-23</th>\n",
       "      <td>27</td>\n",
       "      <td>0</td>\n",
       "      <td>[10.1170330737468, 10.9676878955827, 10.967739...</td>\n",
       "    </tr>\n",
       "    <tr>\n",
       "      <th>2020-03-24</th>\n",
       "      <td>27</td>\n",
       "      <td>1</td>\n",
       "      <td>[10.8590892649269, 10.9677121385118, 10.967712...</td>\n",
       "    </tr>\n",
       "    <tr>\n",
       "      <th>2020-03-25</th>\n",
       "      <td>27</td>\n",
       "      <td>2</td>\n",
       "      <td>[10.9677235262438, 10.3559814000229, 10.579513...</td>\n",
       "    </tr>\n",
       "    <tr>\n",
       "      <th>2020-03-26</th>\n",
       "      <td>27</td>\n",
       "      <td>3</td>\n",
       "      <td>[10.9677623111933, 10.6143072999924, 10.321141...</td>\n",
       "    </tr>\n",
       "    <tr>\n",
       "      <th>2020-03-27</th>\n",
       "      <td>27</td>\n",
       "      <td>4</td>\n",
       "      <td>[10.9784971838712, 10.0736918353322, 10.967758...</td>\n",
       "    </tr>\n",
       "  </tbody>\n",
       "</table>\n",
       "<p>3168 rows × 3 columns</p>\n",
       "</div>"
      ],
      "text/plain": [
       "            building_id  weekday  \\\n",
       "day                                \n",
       "2011-07-26           27        1   \n",
       "2011-07-27           27        2   \n",
       "2011-07-28           27        3   \n",
       "2011-07-29           27        4   \n",
       "2011-07-30           27        5   \n",
       "...                 ...      ...   \n",
       "2020-03-23           27        0   \n",
       "2020-03-24           27        1   \n",
       "2020-03-25           27        2   \n",
       "2020-03-26           27        3   \n",
       "2020-03-27           27        4   \n",
       "\n",
       "                                                 consumptions  \n",
       "day                                                            \n",
       "2011-07-26  [nan, nan, nan, nan, nan, nan, nan, nan, nan, ...  \n",
       "2011-07-27  [17.0, 19.0, 18.3507946535444, 35.846312818818...  \n",
       "2011-07-28  [18.8887041808661, 18.8030088936913, 18.845892...  \n",
       "2011-07-29  [20.0, 21.0, 20.0, 37.7887789876153, 45.845704...  \n",
       "2011-07-30  [17.2981132075472, 17.0, 17.2396974482587, 17....  \n",
       "...                                                       ...  \n",
       "2020-03-23  [10.1170330737468, 10.9676878955827, 10.967739...  \n",
       "2020-03-24  [10.8590892649269, 10.9677121385118, 10.967712...  \n",
       "2020-03-25  [10.9677235262438, 10.3559814000229, 10.579513...  \n",
       "2020-03-26  [10.9677623111933, 10.6143072999924, 10.321141...  \n",
       "2020-03-27  [10.9784971838712, 10.0736918353322, 10.967758...  \n",
       "\n",
       "[3168 rows x 3 columns]"
      ]
     },
     "execution_count": 15,
     "metadata": {},
     "output_type": "execute_result"
    }
   ],
   "source": [
    "days = df['day'].drop_duplicates().tolist()\n",
    "\n",
    "weekdays = []\n",
    "for day in days:\n",
    "    weekdays.append(day.weekday())\n",
    "\n",
    "consumptions = pd.concat([pd.DataFrame({'day': days, 'weekday': weekdays}), consumptions], axis=1)\n",
    "consumptions = consumptions.set_index(['day'])\n",
    "\n",
    "consumptions.insert(0, 'building_id', counter_id)\n",
    "\n",
    "consumptions"
   ]
  }
 ],
 "metadata": {
  "kernelspec": {
   "display_name": "pytfg",
   "language": "python",
   "name": "pytfg"
  },
  "language_info": {
   "codemirror_mode": {
    "name": "ipython",
    "version": 3
   },
   "file_extension": ".py",
   "mimetype": "text/x-python",
   "name": "python",
   "nbconvert_exporter": "python",
   "pygments_lexer": "ipython3",
   "version": "3.6.8"
  }
 },
 "nbformat": 4,
 "nbformat_minor": 4
}
