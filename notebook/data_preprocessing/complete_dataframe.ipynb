{
 "cells": [
  {
   "cell_type": "markdown",
   "metadata": {},
   "source": [
    "# Build complete Dataframe\n",
    "\n",
    "Our first goal is to obtain the complete Dataframe of a building, that is, getting a time series starting from the first existing hour in the database, and finishing with the last one. Whenever the information in between is missing, we'll fill it with `NaN`, for later processing.\n",
    "\n",
    "#### Directory structure\n",
    "\n",
    "./<br></br>\n",
    "notebook/<br></br>\n",
    "    &emsp;|--- data-preprocessing<br></br>\n",
    "    &emsp;&emsp;&emsp;&emsp;|--- complete_dataframe.ipynb<br></br>\n",
    "out/"
   ]
  },
  {
   "cell_type": "code",
   "execution_count": 1,
   "metadata": {},
   "outputs": [],
   "source": [
    "import pandas as pd\n",
    "import numpy as np\n",
    "import pymongo as pm\n",
    "import datetime"
   ]
  },
  {
   "cell_type": "code",
   "execution_count": 2,
   "metadata": {},
   "outputs": [],
   "source": [
    "HOST = '161.67.142.141'\n",
    "PORT = 27017\n",
    "DB = 'differential_uclm_db'\n",
    "DB_COUNTERRAW = 'CounterRawConsumption'\n",
    "\n",
    "START_DAY = 5 # Day starts at 5:00 am"
   ]
  },
  {
   "cell_type": "markdown",
   "metadata": {},
   "source": [
    "### Database connection"
   ]
  },
  {
   "cell_type": "code",
   "execution_count": 3,
   "metadata": {},
   "outputs": [],
   "source": [
    "def connectDB() -> pm.MongoClient:\n",
    "    return pm.MongoClient(host=HOST, port=PORT)[DB]"
   ]
  },
  {
   "cell_type": "code",
   "execution_count": 4,
   "metadata": {},
   "outputs": [],
   "source": [
    "db = connectDB()"
   ]
  },
  {
   "cell_type": "markdown",
   "metadata": {},
   "source": [
    "## 1. Create hour index\n",
    "\n",
    "First, we must obtain the building's first and last registered hour, building then the hour index between these dates."
   ]
  },
  {
   "cell_type": "markdown",
   "metadata": {},
   "source": [
    "### First and last registered hours\n",
    "Find first and last registered hours for the specified building ID"
   ]
  },
  {
   "cell_type": "code",
   "execution_count": 5,
   "metadata": {},
   "outputs": [],
   "source": [
    "def firstHour(db: pm.MongoClient, counter_id: int) -> datetime.datetime:\n",
    "    return list(db[DB_COUNTERRAW].find({'counterinfo_id': counter_id}).sort('timestamp', pm.ASCENDING).limit(1))[0]['timestamp']\n",
    "\n",
    "def lastHour(db: pm.MongoClient, counter_id: int) -> datetime.datetime:\n",
    "    return list(db[DB_COUNTERRAW].find({'counterinfo_id': counter_id}).sort('timestamp', pm.DESCENDING).limit(1))[0]['timestamp']"
   ]
  },
  {
   "cell_type": "code",
   "execution_count": 6,
   "metadata": {},
   "outputs": [
    {
     "data": {
      "text/plain": [
       "(datetime.datetime(2013, 12, 17, 5, 0), datetime.datetime(2020, 5, 30, 4, 0))"
      ]
     },
     "execution_count": 6,
     "metadata": {},
     "output_type": "execute_result"
    }
   ],
   "source": [
    "counter_id = 487 # Building ID example\n",
    "start, end = firstHour(db, counter_id).replace(hour=5), lastHour(db, counter_id).replace(hour=4) # Fix hours to have 24h days\n",
    "\n",
    "start, end"
   ]
  },
  {
   "cell_type": "markdown",
   "metadata": {},
   "source": [
    "### Build hour index\n",
    "From firstHour lastHour with 1 hour step"
   ]
  },
  {
   "cell_type": "code",
   "execution_count": 7,
   "metadata": {},
   "outputs": [],
   "source": [
    "def createIndex(first: datetime.datetime, last: datetime.datetime) -> pd.DatetimeIndex:\n",
    "    return pd.date_range(start=first, end=last, freq='1H')"
   ]
  },
  {
   "cell_type": "code",
   "execution_count": 8,
   "metadata": {},
   "outputs": [
    {
     "data": {
      "text/plain": [
       "DatetimeIndex(['2013-12-17 05:00:00', '2013-12-17 06:00:00',\n",
       "               '2013-12-17 07:00:00', '2013-12-17 08:00:00',\n",
       "               '2013-12-17 09:00:00', '2013-12-17 10:00:00',\n",
       "               '2013-12-17 11:00:00', '2013-12-17 12:00:00',\n",
       "               '2013-12-17 13:00:00', '2013-12-17 14:00:00',\n",
       "               ...\n",
       "               '2020-05-29 19:00:00', '2020-05-29 20:00:00',\n",
       "               '2020-05-29 21:00:00', '2020-05-29 22:00:00',\n",
       "               '2020-05-29 23:00:00', '2020-05-30 00:00:00',\n",
       "               '2020-05-30 01:00:00', '2020-05-30 02:00:00',\n",
       "               '2020-05-30 03:00:00', '2020-05-30 04:00:00'],\n",
       "              dtype='datetime64[ns]', length=56544, freq='H')"
      ]
     },
     "execution_count": 8,
     "metadata": {},
     "output_type": "execute_result"
    }
   ],
   "source": [
    "index = createIndex(start, end)\n",
    "\n",
    "index"
   ]
  },
  {
   "cell_type": "markdown",
   "metadata": {},
   "source": [
    "## 2. Build complete Dataframe\n",
    "Now we rebuild complete Dataframe with the consumptions for every hour we got in the index, filling with `NaN` when the value is not found on the database or if it is a negative consumption. This is reindexing the Dataframe with the previous index we obtained"
   ]
  },
  {
   "cell_type": "code",
   "execution_count": 9,
   "metadata": {},
   "outputs": [],
   "source": [
    "def getDataFrame(db: pm.MongoClient, counter_id: int) -> pd.DataFrame:\n",
    "    cursor = db[DB_COUNTERRAW].find({'counterinfo_id': counter_id})\n",
    "    df = pd.DataFrame(list(cursor))\n",
    "    del df['_id']\n",
    "    del df['counterinfo_id']\n",
    "    \n",
    "    df = df.set_index('timestamp') # Indexing dataframe by timestamp\n",
    "    \n",
    "    return df"
   ]
  },
  {
   "cell_type": "code",
   "execution_count": 10,
   "metadata": {},
   "outputs": [
    {
     "data": {
      "text/html": [
       "<div>\n",
       "<style scoped>\n",
       "    .dataframe tbody tr th:only-of-type {\n",
       "        vertical-align: middle;\n",
       "    }\n",
       "\n",
       "    .dataframe tbody tr th {\n",
       "        vertical-align: top;\n",
       "    }\n",
       "\n",
       "    .dataframe thead th {\n",
       "        text-align: right;\n",
       "    }\n",
       "</style>\n",
       "<table border=\"1\" class=\"dataframe\">\n",
       "  <thead>\n",
       "    <tr style=\"text-align: right;\">\n",
       "      <th></th>\n",
       "      <th>consumption</th>\n",
       "    </tr>\n",
       "    <tr>\n",
       "      <th>timestamp</th>\n",
       "      <th></th>\n",
       "    </tr>\n",
       "  </thead>\n",
       "  <tbody>\n",
       "    <tr>\n",
       "      <th>2013-12-17 12:00:00</th>\n",
       "      <td>4.497335</td>\n",
       "    </tr>\n",
       "    <tr>\n",
       "      <th>2013-12-17 13:00:00</th>\n",
       "      <td>12.102932</td>\n",
       "    </tr>\n",
       "    <tr>\n",
       "      <th>2013-12-17 14:00:00</th>\n",
       "      <td>12.102932</td>\n",
       "    </tr>\n",
       "    <tr>\n",
       "      <th>2013-12-17 15:00:00</th>\n",
       "      <td>12.102932</td>\n",
       "    </tr>\n",
       "    <tr>\n",
       "      <th>2013-12-17 16:00:00</th>\n",
       "      <td>12.102932</td>\n",
       "    </tr>\n",
       "    <tr>\n",
       "      <th>...</th>\n",
       "      <td>...</td>\n",
       "    </tr>\n",
       "    <tr>\n",
       "      <th>2020-05-30 19:00:00</th>\n",
       "      <td>10.000000</td>\n",
       "    </tr>\n",
       "    <tr>\n",
       "      <th>2020-05-30 20:00:00</th>\n",
       "      <td>9.000000</td>\n",
       "    </tr>\n",
       "    <tr>\n",
       "      <th>2020-05-30 21:00:00</th>\n",
       "      <td>8.358873</td>\n",
       "    </tr>\n",
       "    <tr>\n",
       "      <th>2020-05-30 22:00:00</th>\n",
       "      <td>9.641127</td>\n",
       "    </tr>\n",
       "    <tr>\n",
       "      <th>2020-05-30 23:00:00</th>\n",
       "      <td>8.021457</td>\n",
       "    </tr>\n",
       "  </tbody>\n",
       "</table>\n",
       "<p>53532 rows × 1 columns</p>\n",
       "</div>"
      ],
      "text/plain": [
       "                     consumption\n",
       "timestamp                       \n",
       "2013-12-17 12:00:00     4.497335\n",
       "2013-12-17 13:00:00    12.102932\n",
       "2013-12-17 14:00:00    12.102932\n",
       "2013-12-17 15:00:00    12.102932\n",
       "2013-12-17 16:00:00    12.102932\n",
       "...                          ...\n",
       "2020-05-30 19:00:00    10.000000\n",
       "2020-05-30 20:00:00     9.000000\n",
       "2020-05-30 21:00:00     8.358873\n",
       "2020-05-30 22:00:00     9.641127\n",
       "2020-05-30 23:00:00     8.021457\n",
       "\n",
       "[53532 rows x 1 columns]"
      ]
     },
     "execution_count": 10,
     "metadata": {},
     "output_type": "execute_result"
    }
   ],
   "source": [
    "df = getDataFrame(db, counter_id)\n",
    "df"
   ]
  },
  {
   "cell_type": "markdown",
   "metadata": {},
   "source": [
    "### Reindex Dataframe"
   ]
  },
  {
   "cell_type": "code",
   "execution_count": 11,
   "metadata": {
    "scrolled": true
   },
   "outputs": [
    {
     "data": {
      "text/html": [
       "<div>\n",
       "<style scoped>\n",
       "    .dataframe tbody tr th:only-of-type {\n",
       "        vertical-align: middle;\n",
       "    }\n",
       "\n",
       "    .dataframe tbody tr th {\n",
       "        vertical-align: top;\n",
       "    }\n",
       "\n",
       "    .dataframe thead th {\n",
       "        text-align: right;\n",
       "    }\n",
       "</style>\n",
       "<table border=\"1\" class=\"dataframe\">\n",
       "  <thead>\n",
       "    <tr style=\"text-align: right;\">\n",
       "      <th></th>\n",
       "      <th>consumption</th>\n",
       "    </tr>\n",
       "  </thead>\n",
       "  <tbody>\n",
       "    <tr>\n",
       "      <th>2013-12-17 05:00:00</th>\n",
       "      <td>NaN</td>\n",
       "    </tr>\n",
       "    <tr>\n",
       "      <th>2013-12-17 06:00:00</th>\n",
       "      <td>NaN</td>\n",
       "    </tr>\n",
       "    <tr>\n",
       "      <th>2013-12-17 07:00:00</th>\n",
       "      <td>NaN</td>\n",
       "    </tr>\n",
       "    <tr>\n",
       "      <th>2013-12-17 08:00:00</th>\n",
       "      <td>NaN</td>\n",
       "    </tr>\n",
       "    <tr>\n",
       "      <th>2013-12-17 09:00:00</th>\n",
       "      <td>NaN</td>\n",
       "    </tr>\n",
       "    <tr>\n",
       "      <th>...</th>\n",
       "      <td>...</td>\n",
       "    </tr>\n",
       "    <tr>\n",
       "      <th>2020-05-30 00:00:00</th>\n",
       "      <td>8.924032</td>\n",
       "    </tr>\n",
       "    <tr>\n",
       "      <th>2020-05-30 01:00:00</th>\n",
       "      <td>10.000000</td>\n",
       "    </tr>\n",
       "    <tr>\n",
       "      <th>2020-05-30 02:00:00</th>\n",
       "      <td>10.000000</td>\n",
       "    </tr>\n",
       "    <tr>\n",
       "      <th>2020-05-30 03:00:00</th>\n",
       "      <td>9.000000</td>\n",
       "    </tr>\n",
       "    <tr>\n",
       "      <th>2020-05-30 04:00:00</th>\n",
       "      <td>10.000000</td>\n",
       "    </tr>\n",
       "  </tbody>\n",
       "</table>\n",
       "<p>56544 rows × 1 columns</p>\n",
       "</div>"
      ],
      "text/plain": [
       "                     consumption\n",
       "2013-12-17 05:00:00          NaN\n",
       "2013-12-17 06:00:00          NaN\n",
       "2013-12-17 07:00:00          NaN\n",
       "2013-12-17 08:00:00          NaN\n",
       "2013-12-17 09:00:00          NaN\n",
       "...                          ...\n",
       "2020-05-30 00:00:00     8.924032\n",
       "2020-05-30 01:00:00    10.000000\n",
       "2020-05-30 02:00:00    10.000000\n",
       "2020-05-30 03:00:00     9.000000\n",
       "2020-05-30 04:00:00    10.000000\n",
       "\n",
       "[56544 rows x 1 columns]"
      ]
     },
     "execution_count": 11,
     "metadata": {},
     "output_type": "execute_result"
    }
   ],
   "source": [
    "df = df.reindex(index=index)\n",
    "df"
   ]
  },
  {
   "cell_type": "markdown",
   "metadata": {},
   "source": [
    "### Calculate day\n",
    "Day recalculation needed because days will start, as defined in `START_DAY`, at 5:00 am"
   ]
  },
  {
   "cell_type": "code",
   "execution_count": 12,
   "metadata": {},
   "outputs": [],
   "source": [
    "def calcDay(df: pd.DataFrame) -> pd.DataFrame:\n",
    "    df['day'] = df.apply(lambda x: (x.name - pd.DateOffset(hours=START_DAY)).date(), axis= 1)\n",
    "    df['day'] = pd.to_datetime(df['day'])\n",
    "    \n",
    "    return df"
   ]
  },
  {
   "cell_type": "code",
   "execution_count": 13,
   "metadata": {
    "scrolled": true
   },
   "outputs": [
    {
     "data": {
      "text/html": [
       "<div>\n",
       "<style scoped>\n",
       "    .dataframe tbody tr th:only-of-type {\n",
       "        vertical-align: middle;\n",
       "    }\n",
       "\n",
       "    .dataframe tbody tr th {\n",
       "        vertical-align: top;\n",
       "    }\n",
       "\n",
       "    .dataframe thead th {\n",
       "        text-align: right;\n",
       "    }\n",
       "</style>\n",
       "<table border=\"1\" class=\"dataframe\">\n",
       "  <thead>\n",
       "    <tr style=\"text-align: right;\">\n",
       "      <th></th>\n",
       "      <th>consumption</th>\n",
       "      <th>day</th>\n",
       "    </tr>\n",
       "  </thead>\n",
       "  <tbody>\n",
       "    <tr>\n",
       "      <th>2013-12-17 05:00:00</th>\n",
       "      <td>NaN</td>\n",
       "      <td>2013-12-17</td>\n",
       "    </tr>\n",
       "    <tr>\n",
       "      <th>2013-12-17 06:00:00</th>\n",
       "      <td>NaN</td>\n",
       "      <td>2013-12-17</td>\n",
       "    </tr>\n",
       "    <tr>\n",
       "      <th>2013-12-17 07:00:00</th>\n",
       "      <td>NaN</td>\n",
       "      <td>2013-12-17</td>\n",
       "    </tr>\n",
       "    <tr>\n",
       "      <th>2013-12-17 08:00:00</th>\n",
       "      <td>NaN</td>\n",
       "      <td>2013-12-17</td>\n",
       "    </tr>\n",
       "    <tr>\n",
       "      <th>2013-12-17 09:00:00</th>\n",
       "      <td>NaN</td>\n",
       "      <td>2013-12-17</td>\n",
       "    </tr>\n",
       "    <tr>\n",
       "      <th>...</th>\n",
       "      <td>...</td>\n",
       "      <td>...</td>\n",
       "    </tr>\n",
       "    <tr>\n",
       "      <th>2020-05-30 00:00:00</th>\n",
       "      <td>8.924032</td>\n",
       "      <td>2020-05-29</td>\n",
       "    </tr>\n",
       "    <tr>\n",
       "      <th>2020-05-30 01:00:00</th>\n",
       "      <td>10.000000</td>\n",
       "      <td>2020-05-29</td>\n",
       "    </tr>\n",
       "    <tr>\n",
       "      <th>2020-05-30 02:00:00</th>\n",
       "      <td>10.000000</td>\n",
       "      <td>2020-05-29</td>\n",
       "    </tr>\n",
       "    <tr>\n",
       "      <th>2020-05-30 03:00:00</th>\n",
       "      <td>9.000000</td>\n",
       "      <td>2020-05-29</td>\n",
       "    </tr>\n",
       "    <tr>\n",
       "      <th>2020-05-30 04:00:00</th>\n",
       "      <td>10.000000</td>\n",
       "      <td>2020-05-29</td>\n",
       "    </tr>\n",
       "  </tbody>\n",
       "</table>\n",
       "<p>56544 rows × 2 columns</p>\n",
       "</div>"
      ],
      "text/plain": [
       "                     consumption        day\n",
       "2013-12-17 05:00:00          NaN 2013-12-17\n",
       "2013-12-17 06:00:00          NaN 2013-12-17\n",
       "2013-12-17 07:00:00          NaN 2013-12-17\n",
       "2013-12-17 08:00:00          NaN 2013-12-17\n",
       "2013-12-17 09:00:00          NaN 2013-12-17\n",
       "...                          ...        ...\n",
       "2020-05-30 00:00:00     8.924032 2020-05-29\n",
       "2020-05-30 01:00:00    10.000000 2020-05-29\n",
       "2020-05-30 02:00:00    10.000000 2020-05-29\n",
       "2020-05-30 03:00:00     9.000000 2020-05-29\n",
       "2020-05-30 04:00:00    10.000000 2020-05-29\n",
       "\n",
       "[56544 rows x 2 columns]"
      ]
     },
     "execution_count": 13,
     "metadata": {},
     "output_type": "execute_result"
    }
   ],
   "source": [
    "df = calcDay(df)\n",
    "df"
   ]
  },
  {
   "cell_type": "markdown",
   "metadata": {},
   "source": [
    "## 3. Reshape Dataframe into TimeSeries\n",
    "Get new Dataframe with indexed with `day`, and its 24 consumptions"
   ]
  },
  {
   "cell_type": "code",
   "execution_count": 14,
   "metadata": {},
   "outputs": [
    {
     "data": {
      "text/html": [
       "<div>\n",
       "<style scoped>\n",
       "    .dataframe tbody tr th:only-of-type {\n",
       "        vertical-align: middle;\n",
       "    }\n",
       "\n",
       "    .dataframe tbody tr th {\n",
       "        vertical-align: top;\n",
       "    }\n",
       "\n",
       "    .dataframe thead th {\n",
       "        text-align: right;\n",
       "    }\n",
       "</style>\n",
       "<table border=\"1\" class=\"dataframe\">\n",
       "  <thead>\n",
       "    <tr style=\"text-align: right;\">\n",
       "      <th></th>\n",
       "      <th>consumptions</th>\n",
       "    </tr>\n",
       "  </thead>\n",
       "  <tbody>\n",
       "    <tr>\n",
       "      <th>0</th>\n",
       "      <td>[nan, nan, nan, nan, nan, nan, nan, 4.49733527...</td>\n",
       "    </tr>\n",
       "    <tr>\n",
       "      <th>1</th>\n",
       "      <td>[12.1029321298894, 12.1029321298894, 12.102932...</td>\n",
       "    </tr>\n",
       "    <tr>\n",
       "      <th>2</th>\n",
       "      <td>[11.264909064798, 11.264909064798, 11.26490906...</td>\n",
       "    </tr>\n",
       "    <tr>\n",
       "      <th>3</th>\n",
       "      <td>[10.9838823956164, 10.9838823956164, 10.983882...</td>\n",
       "    </tr>\n",
       "    <tr>\n",
       "      <th>4</th>\n",
       "      <td>[6.93115242178077, 7.59915393780765, 7.5991539...</td>\n",
       "    </tr>\n",
       "    <tr>\n",
       "      <th>...</th>\n",
       "      <td>...</td>\n",
       "    </tr>\n",
       "    <tr>\n",
       "      <th>2351</th>\n",
       "      <td>[11.0, 9.0, 9.01754998254973, 12.9824500174503...</td>\n",
       "    </tr>\n",
       "    <tr>\n",
       "      <th>2352</th>\n",
       "      <td>[10.0, 9.0, 9.0, 12.7908828026325, 12.20911719...</td>\n",
       "    </tr>\n",
       "    <tr>\n",
       "      <th>2353</th>\n",
       "      <td>[9.59337189203563, 9.0, 9.0, 11.0, 12.56089413...</td>\n",
       "    </tr>\n",
       "    <tr>\n",
       "      <th>2354</th>\n",
       "      <td>[9.17706203985309, 9.82293796014691, 9.0, 11.0...</td>\n",
       "    </tr>\n",
       "    <tr>\n",
       "      <th>2355</th>\n",
       "      <td>[10.0, 8.94874692548029, 9.83099380910505, 12....</td>\n",
       "    </tr>\n",
       "  </tbody>\n",
       "</table>\n",
       "<p>2356 rows × 1 columns</p>\n",
       "</div>"
      ],
      "text/plain": [
       "                                           consumptions\n",
       "0     [nan, nan, nan, nan, nan, nan, nan, 4.49733527...\n",
       "1     [12.1029321298894, 12.1029321298894, 12.102932...\n",
       "2     [11.264909064798, 11.264909064798, 11.26490906...\n",
       "3     [10.9838823956164, 10.9838823956164, 10.983882...\n",
       "4     [6.93115242178077, 7.59915393780765, 7.5991539...\n",
       "...                                                 ...\n",
       "2351  [11.0, 9.0, 9.01754998254973, 12.9824500174503...\n",
       "2352  [10.0, 9.0, 9.0, 12.7908828026325, 12.20911719...\n",
       "2353  [9.59337189203563, 9.0, 9.0, 11.0, 12.56089413...\n",
       "2354  [9.17706203985309, 9.82293796014691, 9.0, 11.0...\n",
       "2355  [10.0, 8.94874692548029, 9.83099380910505, 12....\n",
       "\n",
       "[2356 rows x 1 columns]"
      ]
     },
     "execution_count": 14,
     "metadata": {},
     "output_type": "execute_result"
    }
   ],
   "source": [
    "consumption = np.asarray(df['consumption'])\n",
    "consumption = consumption.reshape((len(df['day']) // 24, 24)) # Reshape each day with its 24 consumptions\n",
    "\n",
    "consumptions = pd.DataFrame({'consumptions': consumption.tolist()})\n",
    "\n",
    "consumptions"
   ]
  },
  {
   "cell_type": "markdown",
   "metadata": {},
   "source": [
    "### Index by day"
   ]
  },
  {
   "cell_type": "code",
   "execution_count": 15,
   "metadata": {
    "scrolled": false
   },
   "outputs": [
    {
     "data": {
      "text/html": [
       "<div>\n",
       "<style scoped>\n",
       "    .dataframe tbody tr th:only-of-type {\n",
       "        vertical-align: middle;\n",
       "    }\n",
       "\n",
       "    .dataframe tbody tr th {\n",
       "        vertical-align: top;\n",
       "    }\n",
       "\n",
       "    .dataframe thead th {\n",
       "        text-align: right;\n",
       "    }\n",
       "</style>\n",
       "<table border=\"1\" class=\"dataframe\">\n",
       "  <thead>\n",
       "    <tr style=\"text-align: right;\">\n",
       "      <th></th>\n",
       "      <th>building_id</th>\n",
       "      <th>consumptions</th>\n",
       "    </tr>\n",
       "    <tr>\n",
       "      <th>day</th>\n",
       "      <th></th>\n",
       "      <th></th>\n",
       "    </tr>\n",
       "  </thead>\n",
       "  <tbody>\n",
       "    <tr>\n",
       "      <th>2013-12-17</th>\n",
       "      <td>487</td>\n",
       "      <td>[nan, nan, nan, nan, nan, nan, nan, 4.49733527...</td>\n",
       "    </tr>\n",
       "    <tr>\n",
       "      <th>2013-12-18</th>\n",
       "      <td>487</td>\n",
       "      <td>[12.1029321298894, 12.1029321298894, 12.102932...</td>\n",
       "    </tr>\n",
       "    <tr>\n",
       "      <th>2013-12-19</th>\n",
       "      <td>487</td>\n",
       "      <td>[11.264909064798, 11.264909064798, 11.26490906...</td>\n",
       "    </tr>\n",
       "    <tr>\n",
       "      <th>2013-12-20</th>\n",
       "      <td>487</td>\n",
       "      <td>[10.9838823956164, 10.9838823956164, 10.983882...</td>\n",
       "    </tr>\n",
       "    <tr>\n",
       "      <th>2013-12-21</th>\n",
       "      <td>487</td>\n",
       "      <td>[6.93115242178077, 7.59915393780765, 7.5991539...</td>\n",
       "    </tr>\n",
       "    <tr>\n",
       "      <th>...</th>\n",
       "      <td>...</td>\n",
       "      <td>...</td>\n",
       "    </tr>\n",
       "    <tr>\n",
       "      <th>2020-05-25</th>\n",
       "      <td>487</td>\n",
       "      <td>[11.0, 9.0, 9.01754998254973, 12.9824500174503...</td>\n",
       "    </tr>\n",
       "    <tr>\n",
       "      <th>2020-05-26</th>\n",
       "      <td>487</td>\n",
       "      <td>[10.0, 9.0, 9.0, 12.7908828026325, 12.20911719...</td>\n",
       "    </tr>\n",
       "    <tr>\n",
       "      <th>2020-05-27</th>\n",
       "      <td>487</td>\n",
       "      <td>[9.59337189203563, 9.0, 9.0, 11.0, 12.56089413...</td>\n",
       "    </tr>\n",
       "    <tr>\n",
       "      <th>2020-05-28</th>\n",
       "      <td>487</td>\n",
       "      <td>[9.17706203985309, 9.82293796014691, 9.0, 11.0...</td>\n",
       "    </tr>\n",
       "    <tr>\n",
       "      <th>2020-05-29</th>\n",
       "      <td>487</td>\n",
       "      <td>[10.0, 8.94874692548029, 9.83099380910505, 12....</td>\n",
       "    </tr>\n",
       "  </tbody>\n",
       "</table>\n",
       "<p>2356 rows × 2 columns</p>\n",
       "</div>"
      ],
      "text/plain": [
       "            building_id                                       consumptions\n",
       "day                                                                       \n",
       "2013-12-17          487  [nan, nan, nan, nan, nan, nan, nan, 4.49733527...\n",
       "2013-12-18          487  [12.1029321298894, 12.1029321298894, 12.102932...\n",
       "2013-12-19          487  [11.264909064798, 11.264909064798, 11.26490906...\n",
       "2013-12-20          487  [10.9838823956164, 10.9838823956164, 10.983882...\n",
       "2013-12-21          487  [6.93115242178077, 7.59915393780765, 7.5991539...\n",
       "...                 ...                                                ...\n",
       "2020-05-25          487  [11.0, 9.0, 9.01754998254973, 12.9824500174503...\n",
       "2020-05-26          487  [10.0, 9.0, 9.0, 12.7908828026325, 12.20911719...\n",
       "2020-05-27          487  [9.59337189203563, 9.0, 9.0, 11.0, 12.56089413...\n",
       "2020-05-28          487  [9.17706203985309, 9.82293796014691, 9.0, 11.0...\n",
       "2020-05-29          487  [10.0, 8.94874692548029, 9.83099380910505, 12....\n",
       "\n",
       "[2356 rows x 2 columns]"
      ]
     },
     "execution_count": 15,
     "metadata": {},
     "output_type": "execute_result"
    }
   ],
   "source": [
    "days = df['day'].drop_duplicates().tolist()\n",
    "\n",
    "consumptions = pd.concat([pd.DataFrame({'day': days}), consumptions], axis=1)\n",
    "consumptions = consumptions.set_index('day')\n",
    "\n",
    "consumptions.insert(0, 'building_id', counter_id)\n",
    "\n",
    "consumptions"
   ]
  },
  {
   "cell_type": "markdown",
   "metadata": {},
   "source": [
    "### Clean Data\n",
    "Remove negative consumptions and their large positives related consumptions"
   ]
  },
  {
   "cell_type": "code",
   "execution_count": 16,
   "metadata": {},
   "outputs": [],
   "source": [
    "def cleanData(df: pd.DataFrame) -> pd.DataFrame:\n",
    "    consumptions = df['consumptions']\n",
    "    \n",
    "    for row in range(df.shape[0]):\n",
    "        cons = np.asarray(consumptions[row])\n",
    "        negatives = np.less(cons, 0)   # Negative values\n",
    "\n",
    "        cons_clean = cons[~negatives]\n",
    "        clean_mean, clean_std = np.mean(cons_clean), np.std(cons_clean)\n",
    "\n",
    "        positives = np.greater(cons, clean_std * 3 + clean_mean)\n",
    "        invalids = positives + negatives\n",
    "        \n",
    "        cons[invalids] = np.nan\n",
    "\n",
    "        consumptions[row] = cons\n",
    "    \n",
    "    df['consumptions'] = consumptions\n",
    "    return df"
   ]
  },
  {
   "cell_type": "code",
   "execution_count": 17,
   "metadata": {},
   "outputs": [
    {
     "name": "stderr",
     "output_type": "stream",
     "text": [
      "D:\\PythonEnvironments\\pytfg\\lib\\site-packages\\ipykernel_launcher.py:6: RuntimeWarning: invalid value encountered in less\n",
      "  \n",
      "D:\\PythonEnvironments\\pytfg\\lib\\site-packages\\ipykernel_launcher.py:11: RuntimeWarning: invalid value encountered in greater\n",
      "  # This is added back by InteractiveShellApp.init_path()\n",
      "D:\\PythonEnvironments\\pytfg\\lib\\site-packages\\ipykernel_launcher.py:16: SettingWithCopyWarning: \n",
      "A value is trying to be set on a copy of a slice from a DataFrame\n",
      "\n",
      "See the caveats in the documentation: https://pandas.pydata.org/pandas-docs/stable/user_guide/indexing.html#returning-a-view-versus-a-copy\n",
      "  app.launch_new_instance()\n"
     ]
    },
    {
     "data": {
      "text/html": [
       "<div>\n",
       "<style scoped>\n",
       "    .dataframe tbody tr th:only-of-type {\n",
       "        vertical-align: middle;\n",
       "    }\n",
       "\n",
       "    .dataframe tbody tr th {\n",
       "        vertical-align: top;\n",
       "    }\n",
       "\n",
       "    .dataframe thead th {\n",
       "        text-align: right;\n",
       "    }\n",
       "</style>\n",
       "<table border=\"1\" class=\"dataframe\">\n",
       "  <thead>\n",
       "    <tr style=\"text-align: right;\">\n",
       "      <th></th>\n",
       "      <th>building_id</th>\n",
       "      <th>consumptions</th>\n",
       "    </tr>\n",
       "    <tr>\n",
       "      <th>day</th>\n",
       "      <th></th>\n",
       "      <th></th>\n",
       "    </tr>\n",
       "  </thead>\n",
       "  <tbody>\n",
       "    <tr>\n",
       "      <th>2013-12-17</th>\n",
       "      <td>487</td>\n",
       "      <td>[nan, nan, nan, nan, nan, nan, nan, 4.49733527...</td>\n",
       "    </tr>\n",
       "    <tr>\n",
       "      <th>2013-12-18</th>\n",
       "      <td>487</td>\n",
       "      <td>[12.1029321298894, 12.1029321298894, 12.102932...</td>\n",
       "    </tr>\n",
       "    <tr>\n",
       "      <th>2013-12-19</th>\n",
       "      <td>487</td>\n",
       "      <td>[11.264909064798, 11.264909064798, 11.26490906...</td>\n",
       "    </tr>\n",
       "    <tr>\n",
       "      <th>2013-12-20</th>\n",
       "      <td>487</td>\n",
       "      <td>[10.9838823956164, 10.9838823956164, 10.983882...</td>\n",
       "    </tr>\n",
       "    <tr>\n",
       "      <th>2013-12-21</th>\n",
       "      <td>487</td>\n",
       "      <td>[6.93115242178077, 7.59915393780765, 7.5991539...</td>\n",
       "    </tr>\n",
       "    <tr>\n",
       "      <th>...</th>\n",
       "      <td>...</td>\n",
       "      <td>...</td>\n",
       "    </tr>\n",
       "    <tr>\n",
       "      <th>2020-05-25</th>\n",
       "      <td>487</td>\n",
       "      <td>[11.0, 9.0, 9.01754998254973, 12.9824500174503...</td>\n",
       "    </tr>\n",
       "    <tr>\n",
       "      <th>2020-05-26</th>\n",
       "      <td>487</td>\n",
       "      <td>[10.0, 9.0, 9.0, 12.7908828026325, 12.20911719...</td>\n",
       "    </tr>\n",
       "    <tr>\n",
       "      <th>2020-05-27</th>\n",
       "      <td>487</td>\n",
       "      <td>[9.59337189203563, 9.0, 9.0, 11.0, 12.56089413...</td>\n",
       "    </tr>\n",
       "    <tr>\n",
       "      <th>2020-05-28</th>\n",
       "      <td>487</td>\n",
       "      <td>[9.17706203985309, 9.82293796014691, 9.0, 11.0...</td>\n",
       "    </tr>\n",
       "    <tr>\n",
       "      <th>2020-05-29</th>\n",
       "      <td>487</td>\n",
       "      <td>[10.0, 8.94874692548029, 9.83099380910505, 12....</td>\n",
       "    </tr>\n",
       "  </tbody>\n",
       "</table>\n",
       "<p>2356 rows × 2 columns</p>\n",
       "</div>"
      ],
      "text/plain": [
       "            building_id                                       consumptions\n",
       "day                                                                       \n",
       "2013-12-17          487  [nan, nan, nan, nan, nan, nan, nan, 4.49733527...\n",
       "2013-12-18          487  [12.1029321298894, 12.1029321298894, 12.102932...\n",
       "2013-12-19          487  [11.264909064798, 11.264909064798, 11.26490906...\n",
       "2013-12-20          487  [10.9838823956164, 10.9838823956164, 10.983882...\n",
       "2013-12-21          487  [6.93115242178077, 7.59915393780765, 7.5991539...\n",
       "...                 ...                                                ...\n",
       "2020-05-25          487  [11.0, 9.0, 9.01754998254973, 12.9824500174503...\n",
       "2020-05-26          487  [10.0, 9.0, 9.0, 12.7908828026325, 12.20911719...\n",
       "2020-05-27          487  [9.59337189203563, 9.0, 9.0, 11.0, 12.56089413...\n",
       "2020-05-28          487  [9.17706203985309, 9.82293796014691, 9.0, 11.0...\n",
       "2020-05-29          487  [10.0, 8.94874692548029, 9.83099380910505, 12....\n",
       "\n",
       "[2356 rows x 2 columns]"
      ]
     },
     "execution_count": 17,
     "metadata": {},
     "output_type": "execute_result"
    }
   ],
   "source": [
    "consumptions = cleanData(consumptions)\n",
    "consumptions"
   ]
  }
 ],
 "metadata": {
  "kernelspec": {
   "display_name": "pytfg",
   "language": "python",
   "name": "pytfg"
  },
  "language_info": {
   "codemirror_mode": {
    "name": "ipython",
    "version": 3
   },
   "file_extension": ".py",
   "mimetype": "text/x-python",
   "name": "python",
   "nbconvert_exporter": "python",
   "pygments_lexer": "ipython3",
   "version": "3.6.8"
  }
 },
 "nbformat": 4,
 "nbformat_minor": 4
}
