{
 "cells": [
  {
   "cell_type": "code",
   "execution_count": 1,
   "metadata": {},
   "outputs": [],
   "source": [
    "import pandas as pd\n",
    "import numpy as np\n",
    "import datetime\n",
    "import matplotlib.pyplot as plt"
   ]
  },
  {
   "cell_type": "code",
   "execution_count": 2,
   "metadata": {},
   "outputs": [],
   "source": [
    "OUT_PATH = 'data/'\n",
    "CONS_PATH = OUT_PATH + 'consumptions.zip'\n",
    "PROTOS_PATH = OUT_PATH + 'prototypesMEAN.zip'\n",
    "STD_PATH = OUT_PATH + 'prototypesSTD.zip'"
   ]
  },
  {
   "cell_type": "code",
   "execution_count": 3,
   "metadata": {
    "scrolled": false
   },
   "outputs": [
    {
     "data": {
      "text/html": [
       "<div>\n",
       "<style scoped>\n",
       "    .dataframe tbody tr th:only-of-type {\n",
       "        vertical-align: middle;\n",
       "    }\n",
       "\n",
       "    .dataframe tbody tr th {\n",
       "        vertical-align: top;\n",
       "    }\n",
       "\n",
       "    .dataframe thead th {\n",
       "        text-align: right;\n",
       "    }\n",
       "</style>\n",
       "<table border=\"1\" class=\"dataframe\">\n",
       "  <thead>\n",
       "    <tr style=\"text-align: right;\">\n",
       "      <th></th>\n",
       "      <th>building_id</th>\n",
       "      <th>weekday</th>\n",
       "      <th>active</th>\n",
       "      <th>type</th>\n",
       "      <th>consumptions</th>\n",
       "    </tr>\n",
       "    <tr>\n",
       "      <th>day</th>\n",
       "      <th></th>\n",
       "      <th></th>\n",
       "      <th></th>\n",
       "      <th></th>\n",
       "      <th></th>\n",
       "    </tr>\n",
       "  </thead>\n",
       "  <tbody>\n",
       "    <tr>\n",
       "      <th>2011-07-27</th>\n",
       "      <td>27</td>\n",
       "      <td>2</td>\n",
       "      <td>True</td>\n",
       "      <td>2</td>\n",
       "      <td>[17.0, 19.0, 18.35079465, 35.84631282, 47.8462...</td>\n",
       "    </tr>\n",
       "    <tr>\n",
       "      <th>2011-07-28</th>\n",
       "      <td>27</td>\n",
       "      <td>3</td>\n",
       "      <td>True</td>\n",
       "      <td>2</td>\n",
       "      <td>[18.88870418, 18.80300889, 18.84589226, 35.845...</td>\n",
       "    </tr>\n",
       "    <tr>\n",
       "      <th>2011-07-29</th>\n",
       "      <td>27</td>\n",
       "      <td>4</td>\n",
       "      <td>True</td>\n",
       "      <td>2</td>\n",
       "      <td>[20.0, 21.0, 20.0, 37.78877899, 45.84570469, 5...</td>\n",
       "    </tr>\n",
       "    <tr>\n",
       "      <th>2011-07-30</th>\n",
       "      <td>27</td>\n",
       "      <td>5</td>\n",
       "      <td>False</td>\n",
       "      <td>1</td>\n",
       "      <td>[17.29811321, 17.0, 17.23969745, 17.84583302, ...</td>\n",
       "    </tr>\n",
       "    <tr>\n",
       "      <th>2011-07-31</th>\n",
       "      <td>27</td>\n",
       "      <td>6</td>\n",
       "      <td>False</td>\n",
       "      <td>1</td>\n",
       "      <td>[18.84559887, 17.15385255, 18.0, 18.0, 18.0, 2...</td>\n",
       "    </tr>\n",
       "    <tr>\n",
       "      <th>...</th>\n",
       "      <td>...</td>\n",
       "      <td>...</td>\n",
       "      <td>...</td>\n",
       "      <td>...</td>\n",
       "      <td>...</td>\n",
       "    </tr>\n",
       "    <tr>\n",
       "      <th>2020-05-09</th>\n",
       "      <td>2233</td>\n",
       "      <td>5</td>\n",
       "      <td>False</td>\n",
       "      <td>1</td>\n",
       "      <td>[9.50106059, 8.96931442, 8.60189324, 9.1773389...</td>\n",
       "    </tr>\n",
       "    <tr>\n",
       "      <th>2020-05-11</th>\n",
       "      <td>2233</td>\n",
       "      <td>0</td>\n",
       "      <td>False</td>\n",
       "      <td>1</td>\n",
       "      <td>[8.57166388, 10.30621946, 10.4596744, 12.97239...</td>\n",
       "    </tr>\n",
       "    <tr>\n",
       "      <th>2020-05-12</th>\n",
       "      <td>2233</td>\n",
       "      <td>1</td>\n",
       "      <td>False</td>\n",
       "      <td>1</td>\n",
       "      <td>[8.31569322, 9.21411531, 10.19029213, 12.96810...</td>\n",
       "    </tr>\n",
       "    <tr>\n",
       "      <th>2020-05-13</th>\n",
       "      <td>2233</td>\n",
       "      <td>2</td>\n",
       "      <td>False</td>\n",
       "      <td>1</td>\n",
       "      <td>[8.71920264, 9.09413051, 10.02307814, 11.23125...</td>\n",
       "    </tr>\n",
       "    <tr>\n",
       "      <th>2020-05-14</th>\n",
       "      <td>2233</td>\n",
       "      <td>3</td>\n",
       "      <td>False</td>\n",
       "      <td>1</td>\n",
       "      <td>[13.64075597, 10.16190214, 10.16541698, 11.567...</td>\n",
       "    </tr>\n",
       "  </tbody>\n",
       "</table>\n",
       "<p>187488 rows × 5 columns</p>\n",
       "</div>"
      ],
      "text/plain": [
       "            building_id  weekday  active  type  \\\n",
       "day                                              \n",
       "2011-07-27           27        2    True     2   \n",
       "2011-07-28           27        3    True     2   \n",
       "2011-07-29           27        4    True     2   \n",
       "2011-07-30           27        5   False     1   \n",
       "2011-07-31           27        6   False     1   \n",
       "...                 ...      ...     ...   ...   \n",
       "2020-05-09         2233        5   False     1   \n",
       "2020-05-11         2233        0   False     1   \n",
       "2020-05-12         2233        1   False     1   \n",
       "2020-05-13         2233        2   False     1   \n",
       "2020-05-14         2233        3   False     1   \n",
       "\n",
       "                                                 consumptions  \n",
       "day                                                            \n",
       "2011-07-27  [17.0, 19.0, 18.35079465, 35.84631282, 47.8462...  \n",
       "2011-07-28  [18.88870418, 18.80300889, 18.84589226, 35.845...  \n",
       "2011-07-29  [20.0, 21.0, 20.0, 37.78877899, 45.84570469, 5...  \n",
       "2011-07-30  [17.29811321, 17.0, 17.23969745, 17.84583302, ...  \n",
       "2011-07-31  [18.84559887, 17.15385255, 18.0, 18.0, 18.0, 2...  \n",
       "...                                                       ...  \n",
       "2020-05-09  [9.50106059, 8.96931442, 8.60189324, 9.1773389...  \n",
       "2020-05-11  [8.57166388, 10.30621946, 10.4596744, 12.97239...  \n",
       "2020-05-12  [8.31569322, 9.21411531, 10.19029213, 12.96810...  \n",
       "2020-05-13  [8.71920264, 9.09413051, 10.02307814, 11.23125...  \n",
       "2020-05-14  [13.64075597, 10.16190214, 10.16541698, 11.567...  \n",
       "\n",
       "[187488 rows x 5 columns]"
      ]
     },
     "execution_count": 3,
     "metadata": {},
     "output_type": "execute_result"
    }
   ],
   "source": [
    "df = pd.read_pickle(CONS_PATH)\n",
    "protos = pd.read_pickle(PROTOS_PATH)\n",
    "stds = pd.read_pickle(STD_PATH)\n",
    "df"
   ]
  },
  {
   "cell_type": "code",
   "execution_count": 4,
   "metadata": {},
   "outputs": [],
   "source": [
    "def getConsumptions(proto: np.array, std: np.array) -> np.array:\n",
    "    return np.random.normal(proto, np.multiply(std, 0.2))"
   ]
  },
  {
   "cell_type": "code",
   "execution_count": 5,
   "metadata": {},
   "outputs": [],
   "source": [
    "def generate(first: datetime.datetime, last: datetime.datetime, consumer_type: int, active: bool, protos: pd.DataFrame, stds: pd.DataFrame) -> pd.Series:\n",
    "    days = pd.date_range(start=first, end=last, freq='D')\n",
    "    \n",
    "    proto = protos[(protos['active'] == active) & (protos['type'] == consumer_type)]\n",
    "    std = stds[(stds['active'] == active) & (stds['type'] == consumer_type)]\n",
    "    \n",
    "    consumptions = []\n",
    "    for day in days:\n",
    "        cons = getConsumptions(proto['consumptions'][proto['weekday'] == day.weekday()].tolist(), std['consumptions'][std['weekday'] == day.weekday()].tolist())\n",
    "        \n",
    "        for c in cons:\n",
    "            for h in c:\n",
    "                consumptions.append(h)\n",
    "        \n",
    "    return pd.Series(data=consumptions, index=pd.date_range(start=first, end=last, freq='1H'))"
   ]
  },
  {
   "cell_type": "code",
   "execution_count": 6,
   "metadata": {
    "scrolled": false
   },
   "outputs": [
    {
     "data": {
      "text/plain": [
       "2020-06-23 05:00:00    1.996427\n",
       "2020-06-23 06:00:00    2.456259\n",
       "2020-06-23 07:00:00    3.326605\n",
       "2020-06-23 08:00:00    3.656542\n",
       "2020-06-23 09:00:00    8.224586\n",
       "                         ...   \n",
       "2020-06-30 00:00:00    2.595753\n",
       "2020-06-30 01:00:00    1.747678\n",
       "2020-06-30 02:00:00    2.463870\n",
       "2020-06-30 03:00:00    1.726187\n",
       "2020-06-30 04:00:00    3.157412\n",
       "Freq: H, Length: 168, dtype: float64"
      ]
     },
     "execution_count": 6,
     "metadata": {},
     "output_type": "execute_result"
    }
   ],
   "source": [
    "cons = generate(datetime.datetime(2020, 6, 23, 5), datetime.datetime(2020, 6, 30, 4), 0, True, protos, stds)\n",
    "cons"
   ]
  },
  {
   "cell_type": "code",
   "execution_count": 7,
   "metadata": {},
   "outputs": [],
   "source": [
    "def applySmooth(df: pd.DataFrame, window_size: int = 4, times: int = 1) -> pd.DataFrame:\n",
    "    for _ in range(times):\n",
    "        df = df.rolling(window_size, min_periods=1, center=True).mean()\n",
    "    \n",
    "    return df"
   ]
  },
  {
   "cell_type": "code",
   "execution_count": 8,
   "metadata": {},
   "outputs": [
    {
     "data": {
      "text/plain": [
       "2020-06-23 05:00:00    2.484593\n",
       "2020-06-23 06:00:00    2.664261\n",
       "2020-06-23 07:00:00    3.007822\n",
       "2020-06-23 08:00:00    3.721037\n",
       "2020-06-23 09:00:00    4.774995\n",
       "                         ...   \n",
       "2020-06-30 00:00:00    3.264741\n",
       "2020-06-30 01:00:00    2.867311\n",
       "2020-06-30 02:00:00    2.581153\n",
       "2020-06-30 03:00:00    2.402082\n",
       "2020-06-30 04:00:00    2.330758\n",
       "Freq: H, Length: 168, dtype: float64"
      ]
     },
     "execution_count": 8,
     "metadata": {},
     "output_type": "execute_result"
    }
   ],
   "source": [
    "cons = applySmooth(cons, 4, 3)\n",
    "cons"
   ]
  },
  {
   "cell_type": "code",
   "execution_count": 9,
   "metadata": {
    "scrolled": false
   },
   "outputs": [],
   "source": [
    "proto = protos[(protos['type'] == 0) & (protos['active'])]\n",
    "\n",
    "data = []\n",
    "d = 0\n",
    "while d < cons.shape[0]:\n",
    "    consumptions = proto['consumptions'][proto['weekday'] == cons.index[d].weekday()].tolist()\n",
    "    \n",
    "    for conss in consumptions:\n",
    "        for c in conss:\n",
    "            data.append(c)\n",
    "    \n",
    "    d += 24\n",
    "\n",
    "cons_proto = pd.Series(data=data, index=cons.index)"
   ]
  },
  {
   "cell_type": "code",
   "execution_count": 10,
   "metadata": {
    "scrolled": false
   },
   "outputs": [
    {
     "data": {
      "text/plain": [
       "<matplotlib.axes._subplots.AxesSubplot at 0x2c4f783c710>"
      ]
     },
     "execution_count": 10,
     "metadata": {},
     "output_type": "execute_result"
    },
    {
     "data": {
      "image/png": "[encoded data removed]",
      "text/plain": [
       "<Figure size 432x288 with 1 Axes>"
      ]
     },
     "metadata": {
      "needs_background": "light"
     },
     "output_type": "display_data"
    }
   ],
   "source": [
    "fig = plt.figure()\n",
    "ax = fig.add_subplot(1,1,1)\n",
    "\n",
    "cons.plot(ax=ax, color='orange')\n",
    "cons_proto.plot(ax=ax)"
   ]
  }
 ],
 "metadata": {
  "kernelspec": {
   "display_name": "pytfg",
   "language": "python",
   "name": "pytfg"
  },
  "language_info": {
   "codemirror_mode": {
    "name": "ipython",
    "version": 3
   },
   "file_extension": ".py",
   "mimetype": "text/x-python",
   "name": "python",
   "nbconvert_exporter": "python",
   "pygments_lexer": "ipython3",
   "version": "3.6.8"
  }
 },
 "nbformat": 4,
 "nbformat_minor": 4
}
